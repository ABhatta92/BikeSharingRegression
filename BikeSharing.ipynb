{
 "cells": [
  {
   "cell_type": "code",
   "execution_count": 1,
   "id": "a1828089-8fb8-496a-831b-15ab19231efd",
   "metadata": {
    "tags": []
   },
   "outputs": [],
   "source": [
    "import numpy as np\n",
    "import pandas as pd\n",
    "import matplotlib.pyplot as plt\n",
    "import seaborn as sns"
   ]
  },
  {
   "cell_type": "code",
   "execution_count": null,
   "id": "830192b2-937c-44cf-bf39-c1845619e4b7",
   "metadata": {
    "tags": []
   },
   "outputs": [],
   "source": [
    "# A function to retrieve the data types for each column in a Pandas DataFrame\n",
    "\n",
    "def get_metadata(df):\n",
    "    metadata = {}\n",
    "    unique_count = []\n",
    "    for (col, dtype, null_count) in zip(df.columns, df.dtypes, df.isnull().sum()):\n",
    "        metadata[col] = (dtype, null_count)\n",
    "        unique_count.append(df[col].nunique())\n",
    "    \n",
    "    columns = []\n",
    "    dtypes = []\n",
    "    nulls = []\n",
    "    for key,value in metadata.items():\n",
    "        columns.append(key)\n",
    "        dtypes.append(value[0])\n",
    "        nulls.append(value[1])\n",
    "    \n",
    "    data = {\"column_name\":columns,\"data_type\":dtypes, \"null_count\":nulls, \"unique_count\":unique_count}\n",
    "    df_metadata = pd.DataFrame(data)\n",
    "    return df_metadata"
   ]
  },
  {
   "cell_type": "code",
   "execution_count": null,
   "id": "f8dad7d4-39d9-4ce7-b888-112a7cbb036f",
   "metadata": {
    "tags": []
   },
   "outputs": [],
   "source": [
    "df = pd.read_csv(\"data/day.csv\")"
   ]
  },
  {
   "cell_type": "code",
   "execution_count": null,
   "id": "33d4b604-6a84-47ea-ab14-73aa660a7ca4",
   "metadata": {
    "tags": []
   },
   "outputs": [],
   "source": [
    "df.head()"
   ]
  },
  {
   "cell_type": "code",
   "execution_count": null,
   "id": "ca7ea294-9b86-4b60-b9d6-89c78cb682fc",
   "metadata": {
    "tags": []
   },
   "outputs": [],
   "source": [
    "df.dtypes"
   ]
  },
  {
   "cell_type": "code",
   "execution_count": null,
   "id": "4cf52965-9f04-4de6-8c5c-f55147c12254",
   "metadata": {
    "tags": []
   },
   "outputs": [],
   "source": [
    "df['dteday'] = pd.to_datetime(df['dteday'], format='%d-%m-%Y')"
   ]
  },
  {
   "cell_type": "code",
   "execution_count": null,
   "id": "4d92d0a6-f7f9-4890-ba6f-1aae3a013316",
   "metadata": {
    "tags": []
   },
   "outputs": [],
   "source": [
    "plt.figure(figsize=(20,20))\n",
    "plt.plot(df['dteday'], df['temp'], label = 'temp')\n",
    "plt.plot(df['dteday'], df['atemp'], label = 'atemp')\n",
    "#plt.plot(df['dteday'], df['cnt'], label = 'cnt')\n",
    "plt.legend()\n",
    "plt.show()"
   ]
  },
  {
   "cell_type": "code",
   "execution_count": null,
   "id": "3b0ab6de-8b93-4bd3-9eaf-b72c6a2c99d6",
   "metadata": {
    "tags": []
   },
   "outputs": [],
   "source": [
    "df_meta = get_metadata(df)\n",
    "df_meta"
   ]
  },
  {
   "cell_type": "code",
   "execution_count": null,
   "id": "48ada4d4-33aa-44b7-b4d4-ea421f4597c8",
   "metadata": {
    "tags": []
   },
   "outputs": [],
   "source": []
  },
  {
   "cell_type": "code",
   "execution_count": null,
   "id": "89924da7-03ac-46a6-8598-43c130b8d06b",
   "metadata": {
    "tags": []
   },
   "outputs": [],
   "source": [
    "categorical = df_meta[df_meta['unique_count'] <= 12]\n",
    "categorical = categorical['column_name'].to_list()"
   ]
  },
  {
   "cell_type": "code",
   "execution_count": null,
   "id": "3cb2f418-28f3-495c-b1c0-cc02fa4eab92",
   "metadata": {
    "tags": []
   },
   "outputs": [],
   "source": [
    "for col in categorical:\n",
    "    df[col] = df[col].astype(str)"
   ]
  },
  {
   "cell_type": "code",
   "execution_count": null,
   "id": "2cded992-8fa6-4b6f-9d5f-26b72501f6c7",
   "metadata": {
    "tags": []
   },
   "outputs": [],
   "source": [
    "df_meta = get_metadata(df)\n",
    "df_meta"
   ]
  },
  {
   "cell_type": "code",
   "execution_count": null,
   "id": "661772f9-0313-44fd-a87e-0ecf703a05d7",
   "metadata": {
    "tags": []
   },
   "outputs": [],
   "source": [
    "import seaborn as sns\n",
    "\n",
    "plt.figure(figsize=(10,10))\n",
    "sns.heatmap(df.corr(), cmap='YlGnBu', annot = True)\n",
    "plt.show()"
   ]
  },
  {
   "cell_type": "code",
   "execution_count": null,
   "id": "fe5061d5",
   "metadata": {},
   "outputs": [],
   "source": [
    "df['cnt_to_ registered_ratio'] = df['cnt']/df['registered']\n",
    "df['cnt_to_ casual_ratio'] = df['cnt']/df['casual']"
   ]
  },
  {
   "cell_type": "code",
   "execution_count": null,
   "id": "e67713d1",
   "metadata": {},
   "outputs": [],
   "source": []
  },
  {
   "cell_type": "code",
   "execution_count": null,
   "id": "9ac47c9d-f4fb-4e67-a988-4187077f4e71",
   "metadata": {
    "tags": []
   },
   "outputs": [],
   "source": [
    "df_pivot = df.pivot_table(values = 'cnt', index = 'season', columns = 'yr', aggfunc = 'mean')"
   ]
  },
  {
   "cell_type": "code",
   "execution_count": null,
   "id": "c2bec47d-2f16-49eb-b2eb-2e07db3a9b11",
   "metadata": {
    "tags": []
   },
   "outputs": [],
   "source": [
    "df_pivot['perc_change'] = df_pivot['1'].divide(df_pivot['0']).multiply(100)"
   ]
  },
  {
   "cell_type": "code",
   "execution_count": null,
   "id": "6fcba325-2de8-4c58-b1b5-ac16e36efcb3",
   "metadata": {
    "tags": []
   },
   "outputs": [],
   "source": [
    "df_pivot"
   ]
  },
  {
   "cell_type": "code",
   "execution_count": null,
   "id": "84a270ac-7fcc-4738-93e0-580605efea38",
   "metadata": {
    "tags": []
   },
   "outputs": [],
   "source": [
    "df_pivot = df.pivot_table(values = 'cnt', index = 'season', columns = 'yr', aggfunc = 'mean')"
   ]
  },
  {
   "cell_type": "code",
   "execution_count": null,
   "id": "3ab07bcf-dcef-4716-9c10-aaf60c779299",
   "metadata": {
    "tags": []
   },
   "outputs": [],
   "source": [
    "df_pivot"
   ]
  },
  {
   "cell_type": "code",
   "execution_count": null,
   "id": "211959c1-4fd9-466a-a5ff-d647b5f3f06d",
   "metadata": {},
   "outputs": [],
   "source": []
  },
  {
   "cell_type": "code",
   "execution_count": null,
   "id": "c0ba021d-5cf5-4e26-aa7d-aa6a4d6d2b0f",
   "metadata": {},
   "outputs": [],
   "source": []
  },
  {
   "cell_type": "code",
   "execution_count": null,
   "id": "618ee6fb-c1dc-4f70-aba1-64e1614a2cd8",
   "metadata": {},
   "outputs": [],
   "source": []
  },
  {
   "cell_type": "code",
   "execution_count": null,
   "id": "2e3f1494-56b3-4acf-b0d1-5e32ed96246e",
   "metadata": {},
   "outputs": [],
   "source": []
  },
  {
   "cell_type": "code",
   "execution_count": null,
   "id": "0700377f-a56d-4461-a38c-321ef66fe6e4",
   "metadata": {},
   "outputs": [],
   "source": [
    "from sklearn.model_selection import train_test_split\n",
    "from sklearn.linear_model import LinearRegression\n",
    "from sklearn.metrics import mean_squared_error"
   ]
  }
 ],
 "metadata": {
  "kernelspec": {
   "display_name": "Python 3 (ipykernel)",
   "language": "python",
   "name": "python3"
  },
  "language_info": {
   "codemirror_mode": {
    "name": "ipython",
    "version": 3
   },
   "file_extension": ".py",
   "mimetype": "text/x-python",
   "name": "python",
   "nbconvert_exporter": "python",
   "pygments_lexer": "ipython3",
   "version": "3.11.0"
  }
 },
 "nbformat": 4,
 "nbformat_minor": 5
}
