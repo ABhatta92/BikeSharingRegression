{
 "cells": [
  {
   "attachments": {},
   "cell_type": "markdown",
   "id": "94129409",
   "metadata": {},
   "source": [
    "## Bike Sharing Regression Assignment\n",
    "Given the dataset on bike sharing, we will try and create a regression model to predict the variable cnt - the total number of rented bikes on a given day"
   ]
  },
  {
   "attachments": {},
   "cell_type": "markdown",
   "id": "7e9a6424",
   "metadata": {},
   "source": [
    "#### Notebook sections\n",
    "\n",
    "    1. Exploratory Data Analysis\n",
    "    2. Data Preprocessing\n",
    "    3. Model implementation\n",
    "    4. Model assessment\n",
    "    5. Final outcomes"
   ]
  },
  {
   "cell_type": "code",
   "execution_count": null,
   "id": "a1828089-8fb8-496a-831b-15ab19231efd",
   "metadata": {
    "tags": []
   },
   "outputs": [],
   "source": [
    "#Importing the required libraries\n",
    "\n",
    "import numpy as np\n",
    "import pandas as pd\n",
    "import matplotlib.pyplot as plt\n",
    "import seaborn as sns\n",
    "\n",
    "import statsmodels.api as sm\n",
    "from statsmodels.stats.outliers_influence import variance_inflation_factor\n",
    "from sklearn.model_selection import train_test_split\n",
    "from sklearn.feature_selection import RFE\n",
    "from sklearn.linear_model import LinearRegression\n",
    "from sklearn.metrics import mean_squared_error, r2_score\n",
    "from sklearn.preprocessing import OneHotEncoder, MinMaxScaler"
   ]
  },
  {
   "cell_type": "code",
   "execution_count": null,
   "id": "830192b2-937c-44cf-bf39-c1845619e4b7",
   "metadata": {
    "tags": []
   },
   "outputs": [],
   "source": [
    "# A function to retrieve the data types, null counts and number of unique values for each column in a Pandas DataFrame\n",
    "\n",
    "def get_metadata(df):\n",
    "    columns = []\n",
    "    dtypes = []\n",
    "    nulls = []\n",
    "    unique_count = []\n",
    "    for (col, dtype, null_count) in zip(df.columns, df.dtypes, df.isnull().sum()):\n",
    "        columns.append(col)\n",
    "        dtypes.append(dtype)\n",
    "        nulls.append(null_count)\n",
    "        unique_count.append(df[col].nunique())\n",
    "    \n",
    "    data = {\"column_name\":columns,\"data_type\":dtypes, \"null_count\":nulls, \"unique_count\":unique_count}\n",
    "    df_metadata = pd.DataFrame(data)\n",
    "    return df_metadata"
   ]
  },
  {
   "cell_type": "code",
   "execution_count": null,
   "id": "f8dad7d4-39d9-4ce7-b888-112a7cbb036f",
   "metadata": {
    "tags": []
   },
   "outputs": [],
   "source": [
    "#Reading the data\n",
    "df = pd.read_csv(\"data/day.csv\")"
   ]
  },
  {
   "attachments": {},
   "cell_type": "markdown",
   "id": "7a91a63c",
   "metadata": {},
   "source": [
    "### Exploratory Data Analysis\n",
    "1. Changing data types where required\n",
    "2. Dealing with null/missing values\n",
    "3. Univariate analysis of numerical columns\n",
    "4. Bivariate analysis of numerical columns\n",
    "5. Univariate and bivariate analysis of categorical columns"
   ]
  },
  {
   "cell_type": "code",
   "execution_count": null,
   "id": "2c829d84",
   "metadata": {},
   "outputs": [],
   "source": [
    "df.head()"
   ]
  },
  {
   "cell_type": "code",
   "execution_count": null,
   "id": "3b0ab6de-8b93-4bd3-9eaf-b72c6a2c99d6",
   "metadata": {
    "tags": []
   },
   "outputs": [],
   "source": [
    "df_meta = get_metadata(df)\n",
    "df_meta"
   ]
  },
  {
   "attachments": {},
   "cell_type": "markdown",
   "id": "8c3993d4",
   "metadata": {},
   "source": [
    "Due to the nature of the columns instant and dteday, they will be dropped. instant is an identifier simply used for uniquely identifying rows and will, therefore have no bearing on the analysis. dteday has already been split into its components (yr, mnth and weekday).\n",
    "As far as the columns casual and registered are concerned, they relate to our target variable by the following equation: casual+registered = cnt. Since these columns will never be available to us on the same day when we need to make the prediction, we cannot use them to build our model."
   ]
  },
  {
   "cell_type": "code",
   "execution_count": null,
   "id": "a894e78b",
   "metadata": {},
   "outputs": [],
   "source": [
    "cols_to_drop = ['instant','dteday','casual','registered']\n",
    "df = df.drop(cols_to_drop, axis = 1)"
   ]
  },
  {
   "attachments": {},
   "cell_type": "markdown",
   "id": "b3b5326b",
   "metadata": {},
   "source": [
    "For the columns weathersit, weekday, season and mnth, we will change them back to the string values to which they were originally mapped because when we use them to create dummy variables later, it will make it easier to identify the column values. Yr has not been mapped again due to its binary nature. As and when more years data is added, it will be mapped apropriately."
   ]
  },
  {
   "cell_type": "code",
   "execution_count": null,
   "id": "cd06928d",
   "metadata": {},
   "outputs": [],
   "source": [
    "weather_mapping = {1:'Clear', 2:'Mist', 3:'Light_Snow'}\n",
    "df['weathersit'] = df['weathersit'].map(weather_mapping)"
   ]
  },
  {
   "cell_type": "code",
   "execution_count": null,
   "id": "a95cc69f",
   "metadata": {},
   "outputs": [],
   "source": [
    "weekday_mapping = {0:\"Sunday\", 1:\"Monday\", 2:\"Tuesday\", 3:\"Wednesday\", 4:\"Thursday\", 5:\"Friday\", 6:\"Saturday\"}\n",
    "df['weekday'] = df['weekday'].map(weekday_mapping)"
   ]
  },
  {
   "cell_type": "code",
   "execution_count": null,
   "id": "31065343",
   "metadata": {},
   "outputs": [],
   "source": [
    "season_mapping = {1:\"spring\", 2:\"summer\", 3:\"fall\", 4:\"winter\"}\n",
    "df['season'] = df['season'].map(season_mapping)"
   ]
  },
  {
   "cell_type": "code",
   "execution_count": null,
   "id": "27169b16",
   "metadata": {},
   "outputs": [],
   "source": [
    "month_mapping = {1:\"Jan\", 2:\"Feb\", 3:\"Mar\", 4:\"Apr\", 5:\"May\", 6:\"Jun\", 7:\"Jul\", 8:\"Aug\", 9:\"Sept\", 10:\"Oct\", 11:\"Nov\", 12:\"Dec\"}\n",
    "df['mnth'] = df['mnth'].map(month_mapping)"
   ]
  },
  {
   "cell_type": "code",
   "execution_count": null,
   "id": "67b544d3",
   "metadata": {},
   "outputs": [],
   "source": [
    "df.head()"
   ]
  },
  {
   "cell_type": "code",
   "execution_count": null,
   "id": "b16cfadf",
   "metadata": {},
   "outputs": [],
   "source": [
    "df_meta = get_metadata(df)\n",
    "df_meta"
   ]
  },
  {
   "cell_type": "code",
   "execution_count": null,
   "id": "6fcba325-2de8-4c58-b1b5-ac16e36efcb3",
   "metadata": {
    "tags": []
   },
   "outputs": [],
   "source": [
    "categorical = df_meta.loc[df_meta['unique_count'] <= 12, 'column_name'].to_list()\n",
    "df_categorical = df[categorical]\n",
    "df_categorical.head()"
   ]
  },
  {
   "cell_type": "code",
   "execution_count": null,
   "id": "c0ba021d-5cf5-4e26-aa7d-aa6a4d6d2b0f",
   "metadata": {},
   "outputs": [],
   "source": [
    "numerical = df_meta.loc[df_meta['unique_count'] > 12, 'column_name'].to_list()\n",
    "df_numerical = df[numerical]\n",
    "df_numerical.head()"
   ]
  },
  {
   "cell_type": "code",
   "execution_count": null,
   "id": "618ee6fb-c1dc-4f70-aba1-64e1614a2cd8",
   "metadata": {},
   "outputs": [],
   "source": [
    "sns.pairplot(df_numerical)\n",
    "plt.show()"
   ]
  },
  {
   "cell_type": "code",
   "execution_count": null,
   "id": "2e3f1494-56b3-4acf-b0d1-5e32ed96246e",
   "metadata": {},
   "outputs": [],
   "source": [
    "sns.heatmap(df_numerical.corr(), cmap = 'Greens', annot = True)\n",
    "plt.show()"
   ]
  },
  {
   "cell_type": "code",
   "execution_count": null,
   "id": "4fdad430",
   "metadata": {},
   "outputs": [],
   "source": [
    "ohe = OneHotEncoder()"
   ]
  },
  {
   "cell_type": "code",
   "execution_count": null,
   "id": "24da2497",
   "metadata": {},
   "outputs": [],
   "source": [
    "df_cat_meta = get_metadata(df_categorical)\n",
    "df_cat_meta"
   ]
  },
  {
   "cell_type": "code",
   "execution_count": null,
   "id": "1edbfcc2",
   "metadata": {},
   "outputs": [],
   "source": [
    "columns_to_encode = df_cat_meta.loc[df_cat_meta['unique_count'] > 2, 'column_name'].to_list()\n",
    "columns_to_encode.remove('cnt')"
   ]
  },
  {
   "cell_type": "code",
   "execution_count": null,
   "id": "e20dc6ad",
   "metadata": {},
   "outputs": [],
   "source": [
    "dummy_cols = pd.get_dummies(df_categorical, drop_first=True, columns=columns_to_encode)"
   ]
  },
  {
   "cell_type": "code",
   "execution_count": null,
   "id": "25e97e37",
   "metadata": {},
   "outputs": [],
   "source": [
    "dummy_cols.head()"
   ]
  },
  {
   "cell_type": "code",
   "execution_count": null,
   "id": "85626147",
   "metadata": {},
   "outputs": [],
   "source": [
    "dummy_cols.drop('cnt', axis=1,inplace=True)"
   ]
  },
  {
   "cell_type": "code",
   "execution_count": null,
   "id": "df33a423",
   "metadata": {},
   "outputs": [],
   "source": [
    "df_encoded = pd.concat([df_numerical,dummy_cols],axis=1)"
   ]
  },
  {
   "cell_type": "code",
   "execution_count": null,
   "id": "aad8f4f9",
   "metadata": {},
   "outputs": [],
   "source": [
    "df_encoded.head()"
   ]
  },
  {
   "cell_type": "code",
   "execution_count": null,
   "id": "24dc1ce2",
   "metadata": {},
   "outputs": [],
   "source": [
    "df_meta = get_metadata(df_encoded)\n",
    "df_meta"
   ]
  },
  {
   "cell_type": "code",
   "execution_count": null,
   "id": "c8b58252",
   "metadata": {},
   "outputs": [],
   "source": [
    "plt.figure(figsize=(20,20))\n",
    "sns.heatmap(df_encoded.corr(), cmap='Blues',annot=True)\n",
    "plt.show()"
   ]
  },
  {
   "cell_type": "code",
   "execution_count": null,
   "id": "0c996a90",
   "metadata": {},
   "outputs": [],
   "source": [
    "df_train, df_test = train_test_split(df_encoded,test_size=0.3)"
   ]
  },
  {
   "cell_type": "code",
   "execution_count": null,
   "id": "dab9cc3b",
   "metadata": {},
   "outputs": [],
   "source": [
    "scaler = MinMaxScaler()"
   ]
  },
  {
   "cell_type": "code",
   "execution_count": null,
   "id": "7591a736",
   "metadata": {},
   "outputs": [],
   "source": [
    "columns_to_scale = df_meta.loc[df_meta['unique_count'] > 2, 'column_name'].to_list()\n",
    "columns_to_scale"
   ]
  },
  {
   "cell_type": "code",
   "execution_count": null,
   "id": "57f45cd4",
   "metadata": {},
   "outputs": [],
   "source": [
    "df_train[columns_to_scale] = scaler.fit_transform(df_train[columns_to_scale])"
   ]
  },
  {
   "cell_type": "code",
   "execution_count": null,
   "id": "06841182",
   "metadata": {},
   "outputs": [],
   "source": [
    "df_train.describe()"
   ]
  },
  {
   "cell_type": "code",
   "execution_count": null,
   "id": "da32b7da",
   "metadata": {},
   "outputs": [],
   "source": [
    "y_train = df_train['cnt']\n",
    "cols = df_train.columns.to_list()\n",
    "cols.remove('cnt')\n",
    "X_train = df_train[cols]"
   ]
  },
  {
   "cell_type": "code",
   "execution_count": null,
   "id": "80299290",
   "metadata": {},
   "outputs": [],
   "source": [
    "X_train.head()"
   ]
  },
  {
   "cell_type": "code",
   "execution_count": null,
   "id": "426af42f",
   "metadata": {},
   "outputs": [],
   "source": [
    "X_train_sm = sm.add_constant(X_train)"
   ]
  },
  {
   "cell_type": "code",
   "execution_count": null,
   "id": "48cc8565",
   "metadata": {},
   "outputs": [],
   "source": [
    "estimator = LinearRegression()"
   ]
  },
  {
   "cell_type": "code",
   "execution_count": null,
   "id": "72d7d771",
   "metadata": {},
   "outputs": [],
   "source": [
    "rfe = RFE(estimator, n_features_to_select=15)"
   ]
  },
  {
   "cell_type": "code",
   "execution_count": null,
   "id": "b939e805",
   "metadata": {},
   "outputs": [],
   "source": [
    "rfe.fit(X_train, y_train)"
   ]
  },
  {
   "cell_type": "code",
   "execution_count": null,
   "id": "07010176",
   "metadata": {},
   "outputs": [],
   "source": [
    "selected_features = rfe.support_\n",
    "selected_feature_names = [feature for feature, selected in zip(range(X_train.shape[1]), selected_features) if selected]\n",
    "\n",
    "print(\"Selected Features:\")\n",
    "print(selected_feature_names)"
   ]
  },
  {
   "cell_type": "code",
   "execution_count": null,
   "id": "091f9d05",
   "metadata": {},
   "outputs": [],
   "source": [
    "selected_cols = [X_train.columns[x] for x in selected_feature_names]\n",
    "print(selected_cols)"
   ]
  },
  {
   "cell_type": "code",
   "execution_count": null,
   "id": "e2e5bb87",
   "metadata": {},
   "outputs": [],
   "source": [
    "X_train_sel = X_train[selected_cols]\n",
    "X_train_sm = sm.add_constant(X_train_sel)"
   ]
  },
  {
   "cell_type": "code",
   "execution_count": null,
   "id": "d9277776",
   "metadata": {},
   "outputs": [],
   "source": [
    "lr = sm.OLS(y_train,X_train_sm)\n",
    "lr = lr.fit()"
   ]
  },
  {
   "cell_type": "code",
   "execution_count": null,
   "id": "71e4a6ed",
   "metadata": {},
   "outputs": [],
   "source": [
    "lr.summary()"
   ]
  },
  {
   "cell_type": "code",
   "execution_count": null,
   "id": "e84bdb30",
   "metadata": {},
   "outputs": [],
   "source": [
    "vif = pd.DataFrame()\n",
    "vif[\"Variable\"] = X_train_sm.columns\n",
    "vif[\"VIF\"] = [variance_inflation_factor(X_train.values, i) for i in range(X_train_sm.shape[1])]"
   ]
  },
  {
   "cell_type": "code",
   "execution_count": null,
   "id": "679d359c",
   "metadata": {},
   "outputs": [],
   "source": [
    "vif"
   ]
  },
  {
   "cell_type": "code",
   "execution_count": null,
   "id": "d2e32b5c",
   "metadata": {},
   "outputs": [],
   "source": [
    "X_train_sm.drop('windspeed', axis = 1, inplace=True)"
   ]
  },
  {
   "cell_type": "code",
   "execution_count": null,
   "id": "651f2f9b",
   "metadata": {},
   "outputs": [],
   "source": []
  }
 ],
 "metadata": {
  "kernelspec": {
   "display_name": "Python 3 (ipykernel)",
   "language": "python",
   "name": "python3"
  },
  "language_info": {
   "codemirror_mode": {
    "name": "ipython",
    "version": 3
   },
   "file_extension": ".py",
   "mimetype": "text/x-python",
   "name": "python",
   "nbconvert_exporter": "python",
   "pygments_lexer": "ipython3",
   "version": "3.11.0"
  }
 },
 "nbformat": 4,
 "nbformat_minor": 5
}
